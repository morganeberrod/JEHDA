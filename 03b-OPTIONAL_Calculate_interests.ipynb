{
  "cells": [
    {
      "cell_type": "markdown",
      "metadata": {
        "colab_type": "text",
        "id": "1NCGks54kp_n"
      },
      "source": [
        "# How much do you get for your savings ?"
      ]
    },
    {
      "cell_type": "markdown",
      "metadata": {
        "colab_type": "text",
        "id": "75Xe4f7vksGZ"
      },
      "source": [
        "It is said that if Christopher Columbus had set aside €1 that he had left at 2% interest per year, today his heirs would no longer need to work to live their lives. Let's try to calculate the same thing for our savings. "
      ]
    },
    {
      "cell_type": "markdown",
      "metadata": {
        "colab_type": "text",
        "id": "v4ugjwIakv2c"
      },
      "source": [
        "1. So let's create a function that will allow us to know how much money a user will have in total after a certain number of years.\n",
        "\n",
        "2. The user should be able to call the function which will then ask for :\n",
        "\n",
        "    1. The total amount he wishes to place\n",
        "    2. The number of years he wants to invest his money for\n",
        "    3. The rate of interest to which he is entitled\n",
        "    \n",
        "3. Pay attention to the errors that the user may enter.\n",
        "\n",
        "    4. If he enters a string of characters rather than a number, an error should be displayed.\n",
        "    5. If the user enters negative numbers, an error should also be output.\n",
        "    6. Finally, it is very likely that the user will write the interest rate as a percentage (e.g. 10%). Raise an error if this is the case, to prevent him from inputting a percentage.\n",
        "    \n",
        "4. Finally, the program should only show one number with a maximum of two digits after the decimal point.\n"
      ]
    },
    {
      "cell_type": "code",
      "execution_count": 1,
      "metadata": {
        "colab": {
          "base_uri": "https://localhost:8080/",
          "height": 173
        },
        "colab_type": "code",
        "id": "ovkcocqXkp2k",
        "outputId": "c6b46d9b-3503-4490-f19a-4a7e35194eea"
      },
      "outputs": [],
      "source": [
        "def placement() :\n",
        "    try:\n",
        "        amount = float(input(\"How much do you want to place ?\"))\n",
        "        print(amount)\n",
        "        years = int(input(\"How many years do you want to invest ?\"))\n",
        "        print(years)\n",
        "        interest = float(input(\"With how much interest ? \\n \\\n",
        "        Warning : You cannot write a string percentage. For example, insted of 10%, please write 0.1\"))\n",
        "        print(interest)\n",
        "            \n",
        "        if (amount < 0) or (years < 0) or (interest < 0) :\n",
        "            raise ValueError(\"Negative numbers are not allowed.\")\n",
        "        elif interest > 1 :\n",
        "            raise ValueError(\"Interest cannot be greater than 100%\")\n",
        "\n",
        "    except ValueError as e:\n",
        "        print(e)\n",
        "    except:\n",
        "        print(\"Invalid input, strings are not allowed. Please enter a number.\")\n",
        "        \n",
        "    else :\n",
        "        for i in range(0, years) :\n",
        "            gain = amount * interest\n",
        "            new_amount = amount + gain\n",
        "            i = i + 1\n",
        "            amount = new_amount\n",
        "\n",
        "        return print(\"The total amount of money you will have after you deposit\", amount, \"at the end of\", years, \"years will be\", round(amount, 2), \"€.\")"
      ]
    },
    {
      "cell_type": "code",
      "execution_count": 2,
      "metadata": {
        "colab": {},
        "colab_type": "code",
        "id": "K_2poSknltX4",
        "tags": []
      },
      "outputs": [
        {
          "name": "stdout",
          "output_type": "stream",
          "text": [
            "1000.0\n",
            "10\n",
            "0.1\n",
            "The total amount of money you will have after you deposit 2593.7424601 at the end of 10 years will be 2593.74 €.\n"
          ]
        }
      ],
      "source": [
        "placement()"
      ]
    },
    {
      "cell_type": "code",
      "execution_count": 43,
      "metadata": {},
      "outputs": [
        {
          "name": "stdout",
          "output_type": "stream",
          "text": [
            "Amount = 1000\n",
            "Gain = 100.0\n",
            "New amount = 1100.0\n",
            "Year = 1\n",
            "\n",
            "\n",
            "Amount = 1100.0\n",
            "Gain = 110.0\n",
            "New amount = 1210.0\n",
            "Year = 2\n",
            "\n",
            "\n",
            "Amount = 1210.0\n",
            "Gain = 121.0\n",
            "New amount = 1331.0\n",
            "Year = 3\n",
            "\n",
            "\n",
            "Amount = 1331.0\n",
            "Gain = 133.1\n",
            "New amount = 1464.1\n",
            "Year = 4\n",
            "\n",
            "\n",
            "Amount = 1464.1\n",
            "Gain = 146.41\n",
            "New amount = 1610.51\n",
            "Year = 5\n",
            "\n",
            "\n",
            "Amount = 1610.51\n",
            "Gain = 161.05100000000002\n",
            "New amount = 1771.561\n",
            "Year = 6\n",
            "\n",
            "\n",
            "Amount = 1771.561\n",
            "Gain = 177.1561\n",
            "New amount = 1948.7170999999998\n",
            "Year = 7\n",
            "\n",
            "\n",
            "Amount = 1948.7170999999998\n",
            "Gain = 194.87171\n",
            "New amount = 2143.5888099999997\n",
            "Year = 8\n",
            "\n",
            "\n",
            "Amount = 2143.5888099999997\n",
            "Gain = 214.358881\n",
            "New amount = 2357.947691\n",
            "Year = 9\n",
            "\n",
            "\n",
            "Amount = 2357.947691\n",
            "Gain = 235.7947691\n",
            "New amount = 2593.7424601\n",
            "Year = 10\n",
            "\n",
            "\n",
            "\n",
            " Final amount = 2593.7424601\n"
          ]
        }
      ],
      "source": [
        "amount = 1000\n",
        "for i in range(0, 10) :\n",
        "        print(\"Amount =\", amount)\n",
        "        gain = amount * 0.1\n",
        "        print(\"Gain =\", gain)\n",
        "        new_amount = amount + gain\n",
        "        print(\"New amount =\", new_amount)\n",
        "        i = i + 1\n",
        "        print(\"Year =\", i)\n",
        "        amount = new_amount\n",
        "        print(\"\\n\")\n",
        "\n",
        "print(\"\\n Final amount =\", amount)"
      ]
    }
  ],
  "metadata": {
    "colab": {
      "name": "Fondamentaux Python - Mini Projets S1-2B.ipynb",
      "provenance": [],
      "version": "0.3.2"
    },
    "kernelspec": {
      "display_name": "base",
      "language": "python",
      "name": "python3"
    },
    "language_info": {
      "codemirror_mode": {
        "name": "ipython",
        "version": 3
      },
      "file_extension": ".py",
      "mimetype": "text/x-python",
      "name": "python",
      "nbconvert_exporter": "python",
      "pygments_lexer": "ipython3",
      "version": "3.9.13"
    },
    "vscode": {
      "interpreter": {
        "hash": "960fbe17adbe21549f4d64a7aae5d7232c198d559dbd400a4c7655912c6b8867"
      }
    }
  },
  "nbformat": 4,
  "nbformat_minor": 0
}
